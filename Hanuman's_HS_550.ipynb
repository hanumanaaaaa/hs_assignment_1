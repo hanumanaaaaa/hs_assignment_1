{
 "cells": [
  {
   "cell_type": "code",
   "execution_count": 1,
   "id": "7a9f7bc7",
   "metadata": {},
   "outputs": [],
   "source": [
    "import numpy as np\n",
    "import seaborn as sns\n",
    "import matplotlib.pyplot as plt\n",
    "import pandas as pd"
   ]
  },
  {
   "cell_type": "code",
   "execution_count": 2,
   "id": "6d5f008a",
   "metadata": {},
   "outputs": [],
   "source": [
    "data=pd.read_csv(r\"E:\\Hanuman\\Assignment data -2023.csv\")"
   ]
  },
  {
   "cell_type": "code",
   "execution_count": 3,
   "id": "2327100c",
   "metadata": {},
   "outputs": [
    {
     "data": {
      "text/html": [
       "<div>\n",
       "<style scoped>\n",
       "    .dataframe tbody tr th:only-of-type {\n",
       "        vertical-align: middle;\n",
       "    }\n",
       "\n",
       "    .dataframe tbody tr th {\n",
       "        vertical-align: top;\n",
       "    }\n",
       "\n",
       "    .dataframe thead th {\n",
       "        text-align: right;\n",
       "    }\n",
       "</style>\n",
       "<table border=\"1\" class=\"dataframe\">\n",
       "  <thead>\n",
       "    <tr style=\"text-align: right;\">\n",
       "      <th></th>\n",
       "      <th>Districts</th>\n",
       "      <th>STATES</th>\n",
       "      <th>Forest cover</th>\n",
       "      <th>Yield variability</th>\n",
       "      <th>Female literacy rate</th>\n",
       "      <th>Slope &gt;30 degree</th>\n",
       "      <th>Population Density</th>\n",
       "      <th>% BPL Households</th>\n",
       "      <th>Infant Mortality Rate</th>\n",
       "      <th>MGNREGA</th>\n",
       "    </tr>\n",
       "  </thead>\n",
       "  <tbody>\n",
       "    <tr>\n",
       "      <th>0</th>\n",
       "      <td>Anjaw</td>\n",
       "      <td>Arunachal Pradesh</td>\n",
       "      <td>66.66</td>\n",
       "      <td>0.14</td>\n",
       "      <td>43.17</td>\n",
       "      <td>89.18</td>\n",
       "      <td>3.0</td>\n",
       "      <td>63.00</td>\n",
       "      <td>102.0</td>\n",
       "      <td>27.38</td>\n",
       "    </tr>\n",
       "    <tr>\n",
       "      <th>1</th>\n",
       "      <td>KULGAM</td>\n",
       "      <td>J&amp;K</td>\n",
       "      <td>35.17</td>\n",
       "      <td>0.64</td>\n",
       "      <td>51.51</td>\n",
       "      <td>0.13</td>\n",
       "      <td>1035.0</td>\n",
       "      <td>25.37</td>\n",
       "      <td>23.0</td>\n",
       "      <td>34.00</td>\n",
       "    </tr>\n",
       "    <tr>\n",
       "      <th>2</th>\n",
       "      <td>Kurung Kumey</td>\n",
       "      <td>Arunachal Pradesh</td>\n",
       "      <td>87.79</td>\n",
       "      <td>0.12</td>\n",
       "      <td>42.64</td>\n",
       "      <td>84.39</td>\n",
       "      <td>15.0</td>\n",
       "      <td>71.00</td>\n",
       "      <td>108.0</td>\n",
       "      <td>17.51</td>\n",
       "    </tr>\n",
       "    <tr>\n",
       "      <th>3</th>\n",
       "      <td>Upper Subansiri</td>\n",
       "      <td>Arunachal Pradesh</td>\n",
       "      <td>79.22</td>\n",
       "      <td>0.21</td>\n",
       "      <td>57.59</td>\n",
       "      <td>83.50</td>\n",
       "      <td>12.0</td>\n",
       "      <td>65.00</td>\n",
       "      <td>90.0</td>\n",
       "      <td>29.15</td>\n",
       "    </tr>\n",
       "    <tr>\n",
       "      <th>4</th>\n",
       "      <td>Tawang</td>\n",
       "      <td>Arunachal Pradesh</td>\n",
       "      <td>54.19</td>\n",
       "      <td>0.06</td>\n",
       "      <td>46.23</td>\n",
       "      <td>80.63</td>\n",
       "      <td>23.0</td>\n",
       "      <td>64.00</td>\n",
       "      <td>67.0</td>\n",
       "      <td>29.30</td>\n",
       "    </tr>\n",
       "    <tr>\n",
       "      <th>5</th>\n",
       "      <td>Dibang  Valley</td>\n",
       "      <td>Arunachal Pradesh</td>\n",
       "      <td>70.86</td>\n",
       "      <td>0.10</td>\n",
       "      <td>59.16</td>\n",
       "      <td>85.20</td>\n",
       "      <td>1.0</td>\n",
       "      <td>64.00</td>\n",
       "      <td>93.0</td>\n",
       "      <td>15.74</td>\n",
       "    </tr>\n",
       "    <tr>\n",
       "      <th>6</th>\n",
       "      <td>BANDIPURA</td>\n",
       "      <td>J&amp;K</td>\n",
       "      <td>24.48</td>\n",
       "      <td>0.47</td>\n",
       "      <td>55.66</td>\n",
       "      <td>0.37</td>\n",
       "      <td>1137.0</td>\n",
       "      <td>30.81</td>\n",
       "      <td>31.0</td>\n",
       "      <td>46.00</td>\n",
       "    </tr>\n",
       "    <tr>\n",
       "      <th>7</th>\n",
       "      <td>GANDERBAL</td>\n",
       "      <td>J&amp;K</td>\n",
       "      <td>28.14</td>\n",
       "      <td>0.53</td>\n",
       "      <td>54.29</td>\n",
       "      <td>0.41</td>\n",
       "      <td>1148.0</td>\n",
       "      <td>19.12</td>\n",
       "      <td>26.0</td>\n",
       "      <td>32.00</td>\n",
       "    </tr>\n",
       "    <tr>\n",
       "      <th>8</th>\n",
       "      <td>Dhubri</td>\n",
       "      <td>Assam</td>\n",
       "      <td>14.72</td>\n",
       "      <td>0.23</td>\n",
       "      <td>53.33</td>\n",
       "      <td>0.56</td>\n",
       "      <td>896.0</td>\n",
       "      <td>41.50</td>\n",
       "      <td>68.0</td>\n",
       "      <td>25.25</td>\n",
       "    </tr>\n",
       "    <tr>\n",
       "      <th>9</th>\n",
       "      <td>Lakhimpur</td>\n",
       "      <td>Assam</td>\n",
       "      <td>12.87</td>\n",
       "      <td>0.42</td>\n",
       "      <td>70.67</td>\n",
       "      <td>0.08</td>\n",
       "      <td>458.0</td>\n",
       "      <td>37.00</td>\n",
       "      <td>63.0</td>\n",
       "      <td>32.15</td>\n",
       "    </tr>\n",
       "  </tbody>\n",
       "</table>\n",
       "</div>"
      ],
      "text/plain": [
       "         Districts             STATES  Forest cover   Yield variability   \\\n",
       "0            Anjaw  Arunachal Pradesh          66.66                0.14   \n",
       "1           KULGAM                J&K          35.17                0.64   \n",
       "2     Kurung Kumey  Arunachal Pradesh          87.79                0.12   \n",
       "3  Upper Subansiri  Arunachal Pradesh          79.22                0.21   \n",
       "4           Tawang  Arunachal Pradesh          54.19                0.06   \n",
       "5   Dibang  Valley  Arunachal Pradesh          70.86                0.10   \n",
       "6        BANDIPURA                J&K          24.48                0.47   \n",
       "7        GANDERBAL                J&K          28.14                0.53   \n",
       "8           Dhubri              Assam          14.72                0.23   \n",
       "9        Lakhimpur              Assam          12.87                0.42   \n",
       "\n",
       "    Female literacy rate   Slope >30 degree   Population Density   \\\n",
       "0                  43.17              89.18                   3.0   \n",
       "1                  51.51               0.13                1035.0   \n",
       "2                  42.64              84.39                  15.0   \n",
       "3                  57.59              83.50                  12.0   \n",
       "4                  46.23              80.63                  23.0   \n",
       "5                  59.16              85.20                   1.0   \n",
       "6                  55.66               0.37                1137.0   \n",
       "7                  54.29               0.41                1148.0   \n",
       "8                  53.33               0.56                 896.0   \n",
       "9                  70.67               0.08                 458.0   \n",
       "\n",
       "   % BPL Households   Infant Mortality Rate   MGNREGA  \n",
       "0              63.00                  102.0     27.38  \n",
       "1              25.37                   23.0     34.00  \n",
       "2              71.00                  108.0     17.51  \n",
       "3              65.00                   90.0     29.15  \n",
       "4              64.00                   67.0     29.30  \n",
       "5              64.00                   93.0     15.74  \n",
       "6              30.81                   31.0     46.00  \n",
       "7              19.12                   26.0     32.00  \n",
       "8              41.50                   68.0     25.25  \n",
       "9              37.00                   63.0     32.15  "
      ]
     },
     "execution_count": 3,
     "metadata": {},
     "output_type": "execute_result"
    }
   ],
   "source": [
    "data.head(10)"
   ]
  },
  {
   "cell_type": "markdown",
   "id": "9ea0007b",
   "metadata": {},
   "source": [
    "# Q-2"
   ]
  },
  {
   "cell_type": "code",
   "execution_count": 4,
   "id": "53946147",
   "metadata": {},
   "outputs": [
    {
     "data": {
      "text/html": [
       "<div>\n",
       "<style scoped>\n",
       "    .dataframe tbody tr th:only-of-type {\n",
       "        vertical-align: middle;\n",
       "    }\n",
       "\n",
       "    .dataframe tbody tr th {\n",
       "        vertical-align: top;\n",
       "    }\n",
       "\n",
       "    .dataframe thead th {\n",
       "        text-align: right;\n",
       "    }\n",
       "</style>\n",
       "<table border=\"1\" class=\"dataframe\">\n",
       "  <thead>\n",
       "    <tr style=\"text-align: right;\">\n",
       "      <th></th>\n",
       "      <th>Forest cover</th>\n",
       "      <th>Yield variability</th>\n",
       "      <th>Female literacy rate</th>\n",
       "      <th>Slope &gt;30 degree</th>\n",
       "      <th>Population Density</th>\n",
       "      <th>% BPL Households</th>\n",
       "      <th>Infant Mortality Rate</th>\n",
       "      <th>MGNREGA</th>\n",
       "    </tr>\n",
       "  </thead>\n",
       "  <tbody>\n",
       "    <tr>\n",
       "      <th>count</th>\n",
       "      <td>136.000000</td>\n",
       "      <td>136.000000</td>\n",
       "      <td>136.000000</td>\n",
       "      <td>136.000000</td>\n",
       "      <td>136.000000</td>\n",
       "      <td>136.000000</td>\n",
       "      <td>136.000000</td>\n",
       "      <td>136.000000</td>\n",
       "    </tr>\n",
       "    <tr>\n",
       "      <th>mean</th>\n",
       "      <td>51.283088</td>\n",
       "      <td>0.184779</td>\n",
       "      <td>63.813897</td>\n",
       "      <td>23.478897</td>\n",
       "      <td>281.750147</td>\n",
       "      <td>30.686618</td>\n",
       "      <td>40.627353</td>\n",
       "      <td>41.629191</td>\n",
       "    </tr>\n",
       "    <tr>\n",
       "      <th>std</th>\n",
       "      <td>26.997620</td>\n",
       "      <td>0.134495</td>\n",
       "      <td>12.618247</td>\n",
       "      <td>28.962657</td>\n",
       "      <td>285.099185</td>\n",
       "      <td>20.462242</td>\n",
       "      <td>24.866035</td>\n",
       "      <td>21.559616</td>\n",
       "    </tr>\n",
       "    <tr>\n",
       "      <th>min</th>\n",
       "      <td>0.210000</td>\n",
       "      <td>0.000000</td>\n",
       "      <td>22.870000</td>\n",
       "      <td>0.000000</td>\n",
       "      <td>1.000000</td>\n",
       "      <td>0.850000</td>\n",
       "      <td>1.180000</td>\n",
       "      <td>8.360000</td>\n",
       "    </tr>\n",
       "    <tr>\n",
       "      <th>25%</th>\n",
       "      <td>28.900000</td>\n",
       "      <td>0.090000</td>\n",
       "      <td>57.062500</td>\n",
       "      <td>0.285000</td>\n",
       "      <td>56.250000</td>\n",
       "      <td>12.252500</td>\n",
       "      <td>19.855000</td>\n",
       "      <td>25.187500</td>\n",
       "    </tr>\n",
       "    <tr>\n",
       "      <th>50%</th>\n",
       "      <td>53.460000</td>\n",
       "      <td>0.140000</td>\n",
       "      <td>64.445000</td>\n",
       "      <td>7.070000</td>\n",
       "      <td>185.280000</td>\n",
       "      <td>26.980000</td>\n",
       "      <td>42.000000</td>\n",
       "      <td>36.045000</td>\n",
       "    </tr>\n",
       "    <tr>\n",
       "      <th>75%</th>\n",
       "      <td>76.507500</td>\n",
       "      <td>0.222500</td>\n",
       "      <td>72.297500</td>\n",
       "      <td>46.140000</td>\n",
       "      <td>410.000000</td>\n",
       "      <td>42.625000</td>\n",
       "      <td>58.000000</td>\n",
       "      <td>58.155000</td>\n",
       "    </tr>\n",
       "    <tr>\n",
       "      <th>max</th>\n",
       "      <td>92.170000</td>\n",
       "      <td>0.640000</td>\n",
       "      <td>89.700000</td>\n",
       "      <td>90.450000</td>\n",
       "      <td>1313.000000</td>\n",
       "      <td>71.000000</td>\n",
       "      <td>111.000000</td>\n",
       "      <td>98.560000</td>\n",
       "    </tr>\n",
       "  </tbody>\n",
       "</table>\n",
       "</div>"
      ],
      "text/plain": [
       "       Forest cover   Yield variability    Female literacy rate  \\\n",
       "count     136.000000          136.000000             136.000000   \n",
       "mean       51.283088            0.184779              63.813897   \n",
       "std        26.997620            0.134495              12.618247   \n",
       "min         0.210000            0.000000              22.870000   \n",
       "25%        28.900000            0.090000              57.062500   \n",
       "50%        53.460000            0.140000              64.445000   \n",
       "75%        76.507500            0.222500              72.297500   \n",
       "max        92.170000            0.640000              89.700000   \n",
       "\n",
       "        Slope >30 degree   Population Density   % BPL Households   \\\n",
       "count         136.000000            136.000000         136.000000   \n",
       "mean           23.478897            281.750147          30.686618   \n",
       "std            28.962657            285.099185          20.462242   \n",
       "min             0.000000              1.000000           0.850000   \n",
       "25%             0.285000             56.250000          12.252500   \n",
       "50%             7.070000            185.280000          26.980000   \n",
       "75%            46.140000            410.000000          42.625000   \n",
       "max            90.450000           1313.000000          71.000000   \n",
       "\n",
       "       Infant Mortality Rate     MGNREGA  \n",
       "count             136.000000  136.000000  \n",
       "mean               40.627353   41.629191  \n",
       "std                24.866035   21.559616  \n",
       "min                 1.180000    8.360000  \n",
       "25%                19.855000   25.187500  \n",
       "50%                42.000000   36.045000  \n",
       "75%                58.000000   58.155000  \n",
       "max               111.000000   98.560000  "
      ]
     },
     "execution_count": 4,
     "metadata": {},
     "output_type": "execute_result"
    }
   ],
   "source": [
    "data.describe()"
   ]
  },
  {
   "cell_type": "code",
   "execution_count": 5,
   "id": "e9a8c9be",
   "metadata": {},
   "outputs": [
    {
     "data": {
      "text/plain": [
       "53.459999999999994"
      ]
     },
     "execution_count": 5,
     "metadata": {},
     "output_type": "execute_result"
    }
   ],
   "source": [
    "data['Forest cover '].median()"
   ]
  },
  {
   "cell_type": "code",
   "execution_count": 6,
   "id": "1739dcd7",
   "metadata": {},
   "outputs": [
    {
     "data": {
      "text/plain": [
       "0.14"
      ]
     },
     "execution_count": 6,
     "metadata": {},
     "output_type": "execute_result"
    }
   ],
   "source": [
    "data['Yield variability '].median()"
   ]
  },
  {
   "cell_type": "code",
   "execution_count": 7,
   "id": "50c27d53",
   "metadata": {},
   "outputs": [
    {
     "data": {
      "text/plain": [
       "64.445"
      ]
     },
     "execution_count": 7,
     "metadata": {},
     "output_type": "execute_result"
    }
   ],
   "source": [
    "data[' Female literacy rate'].median()"
   ]
  },
  {
   "cell_type": "code",
   "execution_count": 8,
   "id": "b82950fe",
   "metadata": {},
   "outputs": [
    {
     "data": {
      "text/plain": [
       "7.07"
      ]
     },
     "execution_count": 8,
     "metadata": {},
     "output_type": "execute_result"
    }
   ],
   "source": [
    "data[' Slope >30 degree'].median()"
   ]
  },
  {
   "cell_type": "code",
   "execution_count": 9,
   "id": "2b11de38",
   "metadata": {},
   "outputs": [
    {
     "data": {
      "text/plain": [
       "185.28"
      ]
     },
     "execution_count": 9,
     "metadata": {},
     "output_type": "execute_result"
    }
   ],
   "source": [
    "data[' Population Density '].median()"
   ]
  },
  {
   "cell_type": "code",
   "execution_count": 10,
   "id": "b31a7d96",
   "metadata": {},
   "outputs": [
    {
     "data": {
      "text/plain": [
       "26.98"
      ]
     },
     "execution_count": 10,
     "metadata": {},
     "output_type": "execute_result"
    }
   ],
   "source": [
    "data['% BPL Households '].median()"
   ]
  },
  {
   "cell_type": "code",
   "execution_count": null,
   "id": "8224ff47",
   "metadata": {},
   "outputs": [],
   "source": [
    "data['% BPL Households '].median()"
   ]
  },
  {
   "cell_type": "code",
   "execution_count": 11,
   "id": "bb2e215b",
   "metadata": {},
   "outputs": [
    {
     "data": {
      "text/plain": [
       "36.045"
      ]
     },
     "execution_count": 11,
     "metadata": {},
     "output_type": "execute_result"
    }
   ],
   "source": [
    "data[' MGNREGA'].median()"
   ]
  },
  {
   "cell_type": "code",
   "execution_count": 29,
   "id": "a7230ba9",
   "metadata": {},
   "outputs": [
    {
     "data": {
      "text/plain": [
       "42.0"
      ]
     },
     "execution_count": 29,
     "metadata": {},
     "output_type": "execute_result"
    }
   ],
   "source": [
    "data['Infant Mortality Rate'].median()"
   ]
  },
  {
   "cell_type": "code",
   "execution_count": 12,
   "id": "f20dc943",
   "metadata": {},
   "outputs": [],
   "source": [
    "#now finding outliers"
   ]
  },
  {
   "cell_type": "code",
   "execution_count": 13,
   "id": "9e84277d",
   "metadata": {},
   "outputs": [],
   "source": [
    "def outlier(data):\n",
    "    q1=data.quantile(0.25)\n",
    "    q3=data.quantile(0.75)\n",
    "    iqr=q3-q1\n",
    "    outlier=data[((data<q1-1.5*iqr))|(data>(q3+1.5*iqr))]\n",
    "    return outlier"
   ]
  },
  {
   "cell_type": "code",
   "execution_count": 14,
   "id": "a19171e8",
   "metadata": {},
   "outputs": [
    {
     "name": "stdout",
     "output_type": "stream",
     "text": [
      "Series([], Name: Forest cover , dtype: float64)\n"
     ]
    }
   ],
   "source": [
    "outliers=outlier(data['Forest cover '])\n",
    "print(outliers)"
   ]
  },
  {
   "cell_type": "code",
   "execution_count": 15,
   "id": "680c6897",
   "metadata": {},
   "outputs": [
    {
     "name": "stdout",
     "output_type": "stream",
     "text": [
      "1     0.64\n",
      "6     0.47\n",
      "7     0.53\n",
      "22    0.59\n",
      "32    0.53\n",
      "36    0.43\n",
      "40    0.60\n",
      "57    0.50\n",
      "81    0.43\n",
      "Name: Yield variability , dtype: float64\n"
     ]
    }
   ],
   "source": [
    "outliers=outlier(data['Yield variability '])\n",
    "print(outliers)"
   ]
  },
  {
   "cell_type": "code",
   "execution_count": 16,
   "id": "5f2bfdbc",
   "metadata": {},
   "outputs": [
    {
     "name": "stdout",
     "output_type": "stream",
     "text": [
      "41    26.36\n",
      "64    22.87\n",
      "Name:  Female literacy rate, dtype: float64\n"
     ]
    }
   ],
   "source": [
    "outliers=outlier(data[' Female literacy rate'])\n",
    "print(outliers)"
   ]
  },
  {
   "cell_type": "code",
   "execution_count": 17,
   "id": "57013492",
   "metadata": {},
   "outputs": [
    {
     "name": "stdout",
     "output_type": "stream",
     "text": [
      "Series([], Name:  Slope >30 degree, dtype: float64)\n"
     ]
    }
   ],
   "source": [
    "outliers=outlier(data[' Slope >30 degree'])\n",
    "print(outliers)"
   ]
  },
  {
   "cell_type": "code",
   "execution_count": 18,
   "id": "1ad360f1",
   "metadata": {},
   "outputs": [
    {
     "name": "stdout",
     "output_type": "stream",
     "text": [
      "1     1035.0\n",
      "6     1137.0\n",
      "7     1148.0\n",
      "61    1313.0\n",
      "63     998.0\n",
      "73     974.0\n",
      "Name:  Population Density , dtype: float64\n"
     ]
    }
   ],
   "source": [
    "outliers=outlier(data[' Population Density '])\n",
    "print(outliers)"
   ]
  },
  {
   "cell_type": "code",
   "execution_count": 19,
   "id": "7b49b93a",
   "metadata": {},
   "outputs": [
    {
     "name": "stdout",
     "output_type": "stream",
     "text": [
      "Series([], Name: % BPL Households , dtype: float64)\n"
     ]
    }
   ],
   "source": [
    "outliers=outlier(data['% BPL Households '])\n",
    "print(outliers)"
   ]
  },
  {
   "cell_type": "code",
   "execution_count": 20,
   "id": "b2b7f966",
   "metadata": {},
   "outputs": [
    {
     "name": "stdout",
     "output_type": "stream",
     "text": [
      "Series([], Name:  MGNREGA, dtype: float64)\n"
     ]
    }
   ],
   "source": [
    "outliers=outlier(data[' MGNREGA'])\n",
    "print(outliers)"
   ]
  },
  {
   "cell_type": "code",
   "execution_count": 21,
   "id": "4bc6cbf9",
   "metadata": {},
   "outputs": [
    {
     "name": "stdout",
     "output_type": "stream",
     "text": [
      "Series([], Name: Infant Mortality Rate, dtype: float64)\n"
     ]
    }
   ],
   "source": [
    "outliers=outlier(data['Infant Mortality Rate'])\n",
    "print(outliers)"
   ]
  },
  {
   "cell_type": "code",
   "execution_count": 22,
   "id": "2b7b7d09",
   "metadata": {},
   "outputs": [],
   "source": [
    "#NOTE-->where series[] has been written so in that data there is no oulier else outlier value has came as output."
   ]
  },
  {
   "cell_type": "markdown",
   "id": "7c7f4c36",
   "metadata": {},
   "source": [
    "# Q-3"
   ]
  },
  {
   "cell_type": "code",
   "execution_count": 23,
   "id": "25fb5034",
   "metadata": {},
   "outputs": [
    {
     "data": {
      "text/html": [
       "<div>\n",
       "<style scoped>\n",
       "    .dataframe tbody tr th:only-of-type {\n",
       "        vertical-align: middle;\n",
       "    }\n",
       "\n",
       "    .dataframe tbody tr th {\n",
       "        vertical-align: top;\n",
       "    }\n",
       "\n",
       "    .dataframe thead th {\n",
       "        text-align: right;\n",
       "    }\n",
       "</style>\n",
       "<table border=\"1\" class=\"dataframe\">\n",
       "  <thead>\n",
       "    <tr style=\"text-align: right;\">\n",
       "      <th></th>\n",
       "      <th>Forest cover</th>\n",
       "      <th>Yield variability</th>\n",
       "      <th>Female literacy rate</th>\n",
       "      <th>Slope &gt;30 degree</th>\n",
       "      <th>Population Density</th>\n",
       "      <th>% BPL Households</th>\n",
       "      <th>Infant Mortality Rate</th>\n",
       "      <th>MGNREGA</th>\n",
       "    </tr>\n",
       "  </thead>\n",
       "  <tbody>\n",
       "    <tr>\n",
       "      <th>Forest cover</th>\n",
       "      <td>1.000000</td>\n",
       "      <td>-0.134579</td>\n",
       "      <td>0.147087</td>\n",
       "      <td>0.575850</td>\n",
       "      <td>-0.587809</td>\n",
       "      <td>0.244880</td>\n",
       "      <td>0.033953</td>\n",
       "      <td>0.169711</td>\n",
       "    </tr>\n",
       "    <tr>\n",
       "      <th>Yield variability</th>\n",
       "      <td>-0.134579</td>\n",
       "      <td>1.000000</td>\n",
       "      <td>-0.250522</td>\n",
       "      <td>-0.090560</td>\n",
       "      <td>0.246668</td>\n",
       "      <td>-0.200473</td>\n",
       "      <td>-0.217160</td>\n",
       "      <td>-0.078988</td>\n",
       "    </tr>\n",
       "    <tr>\n",
       "      <th>Female literacy rate</th>\n",
       "      <td>0.147087</td>\n",
       "      <td>-0.250522</td>\n",
       "      <td>1.000000</td>\n",
       "      <td>-0.073014</td>\n",
       "      <td>0.073589</td>\n",
       "      <td>0.032576</td>\n",
       "      <td>0.026215</td>\n",
       "      <td>0.249888</td>\n",
       "    </tr>\n",
       "    <tr>\n",
       "      <th>Slope &gt;30 degree</th>\n",
       "      <td>0.575850</td>\n",
       "      <td>-0.090560</td>\n",
       "      <td>-0.073014</td>\n",
       "      <td>1.000000</td>\n",
       "      <td>-0.565344</td>\n",
       "      <td>0.163148</td>\n",
       "      <td>0.086189</td>\n",
       "      <td>0.039232</td>\n",
       "    </tr>\n",
       "    <tr>\n",
       "      <th>Population Density</th>\n",
       "      <td>-0.587809</td>\n",
       "      <td>0.246668</td>\n",
       "      <td>0.073589</td>\n",
       "      <td>-0.565344</td>\n",
       "      <td>1.000000</td>\n",
       "      <td>-0.133017</td>\n",
       "      <td>-0.027818</td>\n",
       "      <td>-0.200212</td>\n",
       "    </tr>\n",
       "    <tr>\n",
       "      <th>% BPL Households</th>\n",
       "      <td>0.244880</td>\n",
       "      <td>-0.200473</td>\n",
       "      <td>0.032576</td>\n",
       "      <td>0.163148</td>\n",
       "      <td>-0.133017</td>\n",
       "      <td>1.000000</td>\n",
       "      <td>0.422283</td>\n",
       "      <td>-0.048886</td>\n",
       "    </tr>\n",
       "    <tr>\n",
       "      <th>Infant Mortality Rate</th>\n",
       "      <td>0.033953</td>\n",
       "      <td>-0.217160</td>\n",
       "      <td>0.026215</td>\n",
       "      <td>0.086189</td>\n",
       "      <td>-0.027818</td>\n",
       "      <td>0.422283</td>\n",
       "      <td>1.000000</td>\n",
       "      <td>-0.355977</td>\n",
       "    </tr>\n",
       "    <tr>\n",
       "      <th>MGNREGA</th>\n",
       "      <td>0.169711</td>\n",
       "      <td>-0.078988</td>\n",
       "      <td>0.249888</td>\n",
       "      <td>0.039232</td>\n",
       "      <td>-0.200212</td>\n",
       "      <td>-0.048886</td>\n",
       "      <td>-0.355977</td>\n",
       "      <td>1.000000</td>\n",
       "    </tr>\n",
       "  </tbody>\n",
       "</table>\n",
       "</div>"
      ],
      "text/plain": [
       "                       Forest cover   Yield variability   \\\n",
       "Forest cover                1.000000           -0.134579   \n",
       "Yield variability          -0.134579            1.000000   \n",
       " Female literacy rate       0.147087           -0.250522   \n",
       " Slope >30 degree           0.575850           -0.090560   \n",
       " Population Density        -0.587809            0.246668   \n",
       "% BPL Households            0.244880           -0.200473   \n",
       "Infant Mortality Rate       0.033953           -0.217160   \n",
       " MGNREGA                    0.169711           -0.078988   \n",
       "\n",
       "                        Female literacy rate   Slope >30 degree  \\\n",
       "Forest cover                        0.147087           0.575850   \n",
       "Yield variability                  -0.250522          -0.090560   \n",
       " Female literacy rate               1.000000          -0.073014   \n",
       " Slope >30 degree                  -0.073014           1.000000   \n",
       " Population Density                 0.073589          -0.565344   \n",
       "% BPL Households                    0.032576           0.163148   \n",
       "Infant Mortality Rate               0.026215           0.086189   \n",
       " MGNREGA                            0.249888           0.039232   \n",
       "\n",
       "                        Population Density   % BPL Households   \\\n",
       "Forest cover                      -0.587809           0.244880   \n",
       "Yield variability                  0.246668          -0.200473   \n",
       " Female literacy rate              0.073589           0.032576   \n",
       " Slope >30 degree                 -0.565344           0.163148   \n",
       " Population Density                1.000000          -0.133017   \n",
       "% BPL Households                  -0.133017           1.000000   \n",
       "Infant Mortality Rate             -0.027818           0.422283   \n",
       " MGNREGA                          -0.200212          -0.048886   \n",
       "\n",
       "                       Infant Mortality Rate   MGNREGA  \n",
       "Forest cover                        0.033953  0.169711  \n",
       "Yield variability                  -0.217160 -0.078988  \n",
       " Female literacy rate               0.026215  0.249888  \n",
       " Slope >30 degree                   0.086189  0.039232  \n",
       " Population Density                -0.027818 -0.200212  \n",
       "% BPL Households                    0.422283 -0.048886  \n",
       "Infant Mortality Rate               1.000000 -0.355977  \n",
       " MGNREGA                           -0.355977  1.000000  "
      ]
     },
     "execution_count": 23,
     "metadata": {},
     "output_type": "execute_result"
    }
   ],
   "source": [
    "data.corr()"
   ]
  },
  {
   "cell_type": "code",
   "execution_count": 28,
   "id": "285aa6aa",
   "metadata": {},
   "outputs": [
    {
     "data": {
      "text/plain": [
       "<AxesSubplot:>"
      ]
     },
     "execution_count": 28,
     "metadata": {},
     "output_type": "execute_result"
    },
    {
     "data": {
      "image/png": "[encoded data removed]",
      "text/plain": [
       "<Figure size 432x288 with 2 Axes>"
      ]
     },
     "metadata": {
      "needs_background": "light"
     },
     "output_type": "display_data"
    }
   ],
   "source": [
    "sns.heatmap(data.corr())"
   ]
  },
  {
   "cell_type": "markdown",
   "id": "535efbe4",
   "metadata": {},
   "source": [
    "# Q 1"
   ]
  },
  {
   "cell_type": "code",
   "execution_count": 24,
   "id": "9c3db26c",
   "metadata": {},
   "outputs": [
    {
     "data": {
      "image/png": "[encoded data removed]",
      "text/plain": [
       "<Figure size 432x288 with 1 Axes>"
      ]
     },
     "metadata": {
      "needs_background": "light"
     },
     "output_type": "display_data"
    }
   ],
   "source": [
    "plt.hist(data[' Population Density '],bins=5,alpha=0.5)\n",
    "plt.hist(data['% BPL Households '],bins=5,alpha=0.5)\n",
    "plt.legend(['density','bpl household'])\n",
    "plt.show()"
   ]
  },
  {
   "cell_type": "code",
   "execution_count": 25,
   "id": "1fba9e7c",
   "metadata": {},
   "outputs": [],
   "source": [
    "# we can where population density is high bpl household percentage is also high"
   ]
  },
  {
   "cell_type": "code",
   "execution_count": 26,
   "id": "d7be25b0",
   "metadata": {},
   "outputs": [
    {
     "data": {
      "image/png": "[encoded data removed]",
      "text/plain": [
       "<Figure size 432x288 with 1 Axes>"
      ]
     },
     "metadata": {
      "needs_background": "light"
     },
     "output_type": "display_data"
    }
   ],
   "source": [
    "plt.hist(data[' MGNREGA'],bins=11,alpha=0.5)\n",
    "plt.hist(data[' Female literacy rate'],bins=11,alpha=0.5)\n",
    "plt.legend(['Female Literacy Rate','MGNREGA'])\n",
    "plt.show()"
   ]
  },
  {
   "cell_type": "code",
   "execution_count": 38,
   "id": "90c407f6",
   "metadata": {},
   "outputs": [
    {
     "data": {
      "text/plain": [
       "<AxesSubplot:xlabel=' MGNREGA', ylabel=' Female literacy rate'>"
      ]
     },
     "execution_count": 38,
     "metadata": {},
     "output_type": "execute_result"
    },
    {
     "data": {
      "image/png": "[encoded data removed]",
      "text/plain": [
       "<Figure size 432x288 with 1 Axes>"
      ]
     },
     "metadata": {
      "needs_background": "light"
     },
     "output_type": "display_data"
    }
   ],
   "source": [
    "sns.scatterplot(x=\" MGNREGA\",y=' Female literacy rate',data=data)"
   ]
  },
  {
   "cell_type": "code",
   "execution_count": 37,
   "id": "a697f98d",
   "metadata": {},
   "outputs": [
    {
     "data": {
      "text/plain": [
       "<AxesSubplot:xlabel='% BPL Households ', ylabel='Infant Mortality Rate'>"
      ]
     },
     "execution_count": 37,
     "metadata": {},
     "output_type": "execute_result"
    },
    {
     "data": {
      "image/png": "[encoded data removed]",
      "text/plain": [
       "<Figure size 432x288 with 1 Axes>"
      ]
     },
     "metadata": {
      "needs_background": "light"
     },
     "output_type": "display_data"
    }
   ],
   "source": [
    "sns.scatterplot(x=\"% BPL Households \",y=\"Infant Mortality Rate\",data=data)"
   ]
  },
  {
   "cell_type": "code",
   "execution_count": null,
   "id": "97a79549",
   "metadata": {},
   "outputs": [],
   "source": []
  }
 ],
 "metadata": {
  "kernelspec": {
   "display_name": "Python 3 (ipykernel)",
   "language": "python",
   "name": "python3"
  },
  "language_info": {
   "codemirror_mode": {
    "name": "ipython",
    "version": 3
   },
   "file_extension": ".py",
   "mimetype": "text/x-python",
   "name": "python",
   "nbconvert_exporter": "python",
   "pygments_lexer": "ipython3",
   "version": "3.9.12"
  }
 },
 "nbformat": 4,
 "nbformat_minor": 5
}
